{
 "cells": [
  {
   "cell_type": "markdown",
   "id": "3ed5c445",
   "metadata": {},
   "source": [
    "# Toy Problem for RL Pathfinding\n",
    "\n",
    "This notebook is a simplified exploration of an RL-based pathfinding algorithm. We setup a 10x10 grid and implement Q-learning as our algorithm.\n",
    "\n",
    "### Fundamentals of RL\n",
    "Reinforcement-Learning is a technique in machine learning where an agent is tasked with interacting within a specified environment. The agent takes an action $a$ during the current state of the environment $s$. The optimal action $a$ is decided by maximising a reward.\n",
    "\n",
    "### Learning Algorithms\n",
    "The learning algorithm that we'll be using is Q-learning defined as:\n",
    "\n",
    "$$\n",
    "Q_\\textrm{new}(s, a) \\leftarrow (1-\\alpha)Q(s,a)+\\alpha(r+\\gamma\\cdot \\max_{a^\\prime}Q(s^\\prime, a^\\prime))\n",
    "$$\n",
    "\n",
    "- $Q(s, a)$ is the current $Q$ value, aka the quality.\n",
    "- $\\alpha$ is the learning rate\n",
    "- $r$ is the reward contribution from taking action $a$\n",
    "- $\\gamma$ is the discount factor for how much we value future rewards\n",
    "- $\\max_{a^\\prime}Q(s^\\prime, a^\\prime)$ returns the maximum $\\mathbf{Q}$-value in the next state $s^\\prime$ having taken action $a^\\prime$.\n",
    "\n",
    "From an applied mathematics background the Q-learning algorithm reminds me of classical operational research optimisation schemes."
   ]
  },
  {
   "cell_type": "code",
   "execution_count": 2,
   "id": "2db5a898",
   "metadata": {},
   "outputs": [],
   "source": [
    "import numpy as np"
   ]
  },
  {
   "cell_type": "markdown",
   "id": "db7e29c9",
   "metadata": {},
   "source": [
    "## The World"
   ]
  },
  {
   "cell_type": "code",
   "execution_count": null,
   "id": "6e0c0923",
   "metadata": {},
   "outputs": [],
   "source": [
    "grid_size = 10\n",
    "grid = np.zeros(shape=(grid_size, grid_size))\n",
    "\n",
    "start = (0, 0)\n",
    "end = (9, 9)\n",
    "\n",
    "human_map = {'Up': 0, 'Down': 1, 'Left': 2, 'Right': 3}\n",
    "agent_map = {\n",
    "    0 : (-1, 0),\n",
    "    1 : (1, 0),\n",
    "    2 : (0,-1),\n",
    "    3 : (0,1)}\n",
    "\n"
   ]
  },
  {
   "cell_type": "markdown",
   "id": "577235eb",
   "metadata": {},
   "source": [
    "## The Agent"
   ]
  },
  {
   "cell_type": "code",
   "execution_count": null,
   "id": "d893b8ca",
   "metadata": {},
   "outputs": [],
   "source": [
    "alpha = 0.1\n",
    "gamma = 0.9"
   ]
  },
  {
   "cell_type": "code",
   "execution_count": null,
   "id": "6f4ce889",
   "metadata": {},
   "outputs": [],
   "source": [
    "class Agent:\n",
    "    def __init__(self, curr_pos=start):\n",
    "        self.curr_pos = curr_pos\n",
    "        self.Q_table = np.zeros(shape=(grid_size, grid_size, len(human_map)))\n",
    "\n",
    "    def move(self, action:int):\n",
    "        row_change, col_change = agent_map[action]\n",
    "\n",
    "        row_pos = self.curr_pos[0] + row_change\n",
    "        row_pos %= grid_size\n",
    "\n",
    "        col_pos = self.curr_pos[1] + col_change\n",
    "        col_pos %= grid_size\n",
    "\n",
    "        new_pos = (row_pos, col_pos)\n",
    "        \n",
    "        return new_pos\n",
    "    \n",
    "    def choose_action(self, epsilon):\n",
    "        crit = np.random.uniform(0, 1)\n",
    "\n",
    "        if crit < epsilon:\n",
    "            action = np.random.choice([0, 1, 2, 3])\n",
    "            return action\n",
    "        else:\n",
    "            q_vals = self.Q_table[self.curr_pos[0], self.curr_pos[1]]\n",
    "            action = np.argmax(q_vals)\n",
    "            return action\n",
    "        \n",
    "    def update_q_table(self, action, reward, new_pos):\n",
    "        old_q = self.Q_table[self.curr_pos[0], self.curr_pos[1], action]\n",
    "        max_q = np.max(self.Q_table[new_pos[0], new_pos[1]])\n",
    "        new_q = old_q + alpha * (reward + gamma*(max_q) - old_q)\n",
    "        self.Q_table[self.curr_pos[0], self.curr_pos[1], action] = new_q\n"
   ]
  },
  {
   "cell_type": "code",
   "execution_count": null,
   "id": "4b5dae2a",
   "metadata": {},
   "outputs": [],
   "source": []
  }
 ],
 "metadata": {
  "kernelspec": {
   "display_name": "base",
   "language": "python",
   "name": "python3"
  },
  "language_info": {
   "codemirror_mode": {
    "name": "ipython",
    "version": 3
   },
   "file_extension": ".py",
   "mimetype": "text/x-python",
   "name": "python",
   "nbconvert_exporter": "python",
   "pygments_lexer": "ipython3",
   "version": "3.12.2"
  }
 },
 "nbformat": 4,
 "nbformat_minor": 5
}
