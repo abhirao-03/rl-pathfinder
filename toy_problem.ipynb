{
 "cells": [
  {
   "cell_type": "markdown",
   "id": "3ed5c445",
   "metadata": {},
   "source": [
    "# Toy Problem for RL Pathfinding\n",
    "\n",
    "This notebook is a simplified exploration of an RL-based pathfinding algorithm. We setup a 10x10 grid and implement Q-learning as our algorithm.\n",
    "\n",
    "### Fundamentals of RL\n",
    "Reinforcement-Learning is a technique in machine learning where an agent is tasked with interacting within a specified environment. The agent takes an action $a$ during the current state of the environment $s$. The optimal action $a$ is decided by maximising a reward.\n",
    "\n",
    "### Learning Algorithms\n",
    "The learning algorithm that we'll be using is Q-learning defined as:\n",
    "\n",
    "$$\n",
    "Q_\\textrm{new}(s, a) \\leftarrow (1-\\alpha)Q(s,a)+\\alpha(r+\\gamma\\cdot \\max_{a^\\prime}Q(s^\\prime, a^\\prime))\n",
    "$$\n",
    "\n",
    "- $Q(s, a)$ is the current $Q$ value, aka the quality.\n",
    "- $\\alpha$ is the learning rate\n",
    "- $r$ is the reward contribution from taking action $a$\n",
    "- $\\gamma$ is the discount factor for how much we value future rewards\n",
    "- $\\max_{a^\\prime}Q(s^\\prime, a^\\prime)$ returns the maximum $\\mathbf{Q}$-value in the next state $s^\\prime$ having taken action $a^\\prime$."
   ]
  },
  {
   "cell_type": "code",
   "execution_count": null,
   "id": "2db5a898",
   "metadata": {},
   "outputs": [],
   "source": []
  }
 ],
 "metadata": {
  "language_info": {
   "name": "python"
  }
 },
 "nbformat": 4,
 "nbformat_minor": 5
}
