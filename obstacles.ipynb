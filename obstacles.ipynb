{
 "cells": [
  {
   "cell_type": "markdown",
   "id": "999feec1",
   "metadata": {},
   "source": [
    "# Levelling Up the Model\n",
    "\n",
    "Now we introduce barriers that the agent is not allowed to pass."
   ]
  },
  {
   "cell_type": "code",
   "execution_count": 140,
   "id": "4b6273ae",
   "metadata": {},
   "outputs": [],
   "source": [
    "import numpy as np\n",
    "import matplotlib.pyplot as plt\n",
    "import types"
   ]
  },
  {
   "cell_type": "code",
   "execution_count": 141,
   "id": "68e30250",
   "metadata": {},
   "outputs": [],
   "source": [
    "agent_map = {\n",
    "    0 : (-1, 0),\n",
    "    1 : (1, 0),\n",
    "    2 : (0,-1),\n",
    "    3 : (0,1)}"
   ]
  },
  {
   "cell_type": "code",
   "execution_count": 142,
   "id": "6acfd5f4",
   "metadata": {},
   "outputs": [],
   "source": [
    "space = 0\n",
    "obstacle = 1\n",
    "grid_size = 25\n",
    "\n",
    "grid = np.zeros(shape=(grid_size, grid_size), dtype=int)\n",
    "\n",
    "grid[0, :]  = obstacle\n",
    "grid[-1, :] = obstacle\n",
    "grid[:, 0]  = obstacle\n",
    "grid[:, -1] = obstacle\n",
    "\n",
    "grid[:12, 5]  = obstacle\n",
    "grid[15, :16] = obstacle\n",
    "grid[20, 15:21] = obstacle\n",
    "grid[5:20, 20]  = obstacle\n",
    "\n",
    "grid[15:20, 10] = obstacle\n",
    "grid[6, 5:15] = obstacle\n",
    "\n",
    "start = (20, 5)\n",
    "end   = (2, 10)"
   ]
  },
  {
   "cell_type": "code",
   "execution_count": 143,
   "id": "1f4a85c8",
   "metadata": {},
   "outputs": [],
   "source": [
    "reward_goal = 100\n",
    "reward_step = -1\n",
    "reward_obstacle = -100"
   ]
  },
  {
   "cell_type": "code",
   "execution_count": 144,
   "id": "653ee06a",
   "metadata": {},
   "outputs": [],
   "source": [
    "alpha = 0.1\n",
    "gamma = 0.9"
   ]
  },
  {
   "cell_type": "code",
   "execution_count": 149,
   "id": "51fa71c4",
   "metadata": {},
   "outputs": [],
   "source": [
    "class Agent:\n",
    "    def __init__(self, curr_pos:tuple = start):\n",
    "        self.start = start\n",
    "        self.curr_pos = curr_pos\n",
    "        self.Q_table = np.zeros(shape=(grid_size, grid_size, len(agent_map)))\n",
    "        self.path = []\n",
    "\n",
    "    def calc_new_pos(self, action):\n",
    "        row_change, col_change = agent_map[action]\n",
    "        new_row = self.curr_pos[0] + row_change\n",
    "        new_col = self.curr_pos[1] + col_change\n",
    "        return (new_row, new_col)\n",
    "    \n",
    "    def choose_action(self, epsilon):\n",
    "        crit = np.random.uniform(0, 1)\n",
    "\n",
    "        if crit < epsilon:\n",
    "            action = np.random.choice([0, 1, 2, 3])\n",
    "            return int(action)\n",
    "        else:\n",
    "            q_vals = self.Q_table[self.curr_pos[0], self.curr_pos[1]]\n",
    "            action = np.argmax(q_vals)\n",
    "            return int(action)\n",
    "        \n",
    "    def update_q_table(self, action, reward, new_pos):\n",
    "        old_q = self.Q_table[self.curr_pos[0], self.curr_pos[1], action]\n",
    "        max_q = np.max(self.Q_table[new_pos[0], new_pos[1]])\n",
    "        new_q = old_q + alpha * (reward + gamma*(max_q) - old_q)\n",
    "        self.Q_table[self.curr_pos[0], self.curr_pos[1], action] = new_q\n",
    "\n",
    "    def distance(self, goal:tuple):\n",
    "\n",
    "        print(self.start, \" to \",self.path[-1])\n",
    "        return ((self.curr_pos[0] - goal[0]) ** 2 + (self.curr_pos[1] - goal[1]) ** 2) ** (1/2)"
   ]
  },
  {
   "cell_type": "code",
   "execution_count": 153,
   "id": "b4de656d",
   "metadata": {},
   "outputs": [],
   "source": [
    "epsilon = 1.0\n",
    "epislon_decay = 0.99995\n",
    "episodes = 40000\n",
    "\n",
    "james = Agent()\n",
    "\n",
    "for e in range(episodes):\n",
    "    while james.curr_pos != end:\n",
    "        action  = james.choose_action(epsilon)\n",
    "        tent_pos = james.calc_new_pos(action)\n",
    "\n",
    "        row_check  = tent_pos[0] < 0 or tent_pos[0] >= grid_size\n",
    "        col_check = tent_pos[1] < 0 or tent_pos[1] >= grid_size\n",
    "\n",
    "        if row_check or col_check:\n",
    "            reward = reward_obstacle\n",
    "            new_pos = james.curr_pos\n",
    "        else:\n",
    "            if grid[tent_pos[0], tent_pos[1]] == obstacle:\n",
    "                reward = reward_obstacle\n",
    "                new_pos = james.curr_pos\n",
    "        \n",
    "            elif tent_pos == end:\n",
    "                reward = reward_goal\n",
    "                new_pos = tent_pos\n",
    "            else:\n",
    "                reward = reward_step\n",
    "                new_pos = tent_pos\n",
    "        \n",
    "        james.update_q_table(action, reward, new_pos)\n",
    "        james.curr_pos = new_pos\n",
    "\n",
    "    epsilon *= epislon_decay"
   ]
  },
  {
   "cell_type": "code",
   "execution_count": 154,
   "id": "ea4f9dd9",
   "metadata": {},
   "outputs": [],
   "source": [
    "james.curr_pos = start\n",
    "path = [start]\n",
    "max_steps = grid_size ** 2\n",
    "step_count = 0\n",
    "while james.curr_pos != end and step_count < max_steps:\n",
    "    step_count += 1\n",
    "    action = james.choose_action(0.0)\n",
    "    tent_pos = james.calc_new_pos(action)\n",
    "\n",
    "    row_check  = tent_pos[0] < 0 or tent_pos[0] >= grid_size\n",
    "    col_check = tent_pos[1] < 0 or tent_pos[1] >= grid_size\n",
    "\n",
    "    if row_check or col_check:\n",
    "        new_pos = james.curr_pos\n",
    "    else:\n",
    "        if grid[tent_pos[0], tent_pos[1]] == obstacle:\n",
    "            new_pos = james.curr_pos\n",
    "        else:\n",
    "            new_pos = tent_pos\n",
    "\n",
    "    path.append(new_pos)\n",
    "    james.path = path\n",
    "    james.curr_pos = new_pos"
   ]
  },
  {
   "cell_type": "code",
   "execution_count": 155,
   "id": "e9d2a580",
   "metadata": {},
   "outputs": [
    {
     "name": "stdout",
     "output_type": "stream",
     "text": [
      "(20, 5)  to  (16, 5)\n"
     ]
    },
    {
     "data": {
      "text/plain": [
       "14.866068747318506"
      ]
     },
     "execution_count": 155,
     "metadata": {},
     "output_type": "execute_result"
    }
   ],
   "source": [
    "james.distance(end)"
   ]
  }
 ],
 "metadata": {
  "kernelspec": {
   "display_name": "base",
   "language": "python",
   "name": "python3"
  },
  "language_info": {
   "codemirror_mode": {
    "name": "ipython",
    "version": 3
   },
   "file_extension": ".py",
   "mimetype": "text/x-python",
   "name": "python",
   "nbconvert_exporter": "python",
   "pygments_lexer": "ipython3",
   "version": "3.12.11"
  }
 },
 "nbformat": 4,
 "nbformat_minor": 5
}
